{
 "cells": [
  {
   "cell_type": "markdown",
   "id": "6yDxo9u0d9Na",
   "metadata": {
    "id": "6yDxo9u0d9Na"
   },
   "source": [
    "# Project Business Statistics: E-news Express\n"
   ]
  },
  {
   "cell_type": "markdown",
   "id": "9Vt1PLLqmXNn",
   "metadata": {
    "id": "9Vt1PLLqmXNn"
   },
   "source": [
    "## Problem Statement\n",
    "\n",
    "An online news portal aims to expand its business by acquiring new subscribers. Every visitor to the website takes certain actions based on their interest. The company plans to analyze these interests and wants to determine whether a new feature will be effective or not. Companies often analyze users' responses to two variants of a product to decide which of the two variants is more effective. This experimental technique is known as a/b testing that is used to determine whether a new feature attracts users based on a chosen metric.\n",
    "\n",
    "Suppose you are hired as a Data Scientist in E-news Express. The design team of the company has created a new landing page. You have been assigned the task to decide whether the new landing page is more effective to gather new subscribers. Suppose you randomly selected 100 users and divided them equally into two groups. The old landing page is served to the first group (control group) and the new landing page is served to the second group (treatment group). Various data about the customers in both groups are collected in 'abtest.csv'. \n",
    "\n",
    "## Objectives :\n",
    "Perform the statistical analysis to answer the following questions using the collected data.\n",
    "\n",
    "1. Explore the dataset and extract insights using Exploratory Data Analysis.\n",
    "\n",
    "2. Do the users spend more time on the new landing page than the existing landing page?\n",
    "\n",
    "3. Is the conversion rate (the proportion of users who visit the landing page and get converted) for the new page greater than the conversion rate for the old page?\n",
    "\n",
    "4. Does the converted status depend on the preferred language? [Hint: Create a contingency table using the pandas.crosstab() function]\n",
    "\n",
    "5. Is the time spent on the new page same for the different language users?\n",
    "\n",
    "\n",
    "*Consider a significance level of 0.05 for all tests.\n",
    "\n",
    "The aim of performing statistical analysis to answer the above questions is to decide wether the new landing page is more effective to attract and bring in new subscribers for the online news portal.The answers of the questions obtained from the statistical analysis performed will help make a decision and business recommendations.\n",
    "\n",
    "## Data Dictionary:\n",
    "\n",
    "1. user_id - This represents the user ID of the person visiting the website.\n",
    "\n",
    "2. group - This represents whether the user belongs to the first group (control) or the second group (treatment).\n",
    "\n",
    "3. landing_page - This represents whether the landing page is new or old.\n",
    "\n",
    "4. time_spent_on_the_page - This represents the time (in minutes) spent by the user on the landing page.\n",
    "\n",
    "5. converted - This represents whether the user gets converted to a subscriber of the news portal or not.\n",
    "\n",
    "6. language_preferred - This represents the language chosen by the user to view the landing page."
   ]
  },
  {
   "cell_type": "markdown",
   "id": "a6a3d218",
   "metadata": {
    "id": "a6a3d218"
   },
   "source": [
    "## Import all the necessary libraries"
   ]
  },
  {
   "cell_type": "code",
   "execution_count": 1,
   "id": "658c5dec",
   "metadata": {
    "id": "658c5dec"
   },
   "outputs": [],
   "source": [
    "# import libraries for data manipulation\n",
    "import numpy as np\n",
    "import pandas as pd\n",
    "\n",
    "# import libraries for plots and data visualization\n",
    "from matplotlib import pyplot as plt\n",
    "import seaborn as sns\n",
    "%matplotlib inline\n",
    "sns.set_theme(style='darkgrid') \n",
    "\n",
    "# import  library that contains a large number of probability  distributions \n",
    "# as well  a growing library of statistical functions\n",
    "import scipy.stats as stats\n",
    "\n",
    "# Library to suppress warnings\n",
    "import warnings\n",
    "warnings.filterwarnings(\"ignore\")"
   ]
  },
  {
   "cell_type": "markdown",
   "id": "9d75cfa2",
   "metadata": {
    "id": "9d75cfa2"
   },
   "source": [
    "## 1. Explore the dataset and extract insights using Exploratory Data Analysis. (10 Marks)"
   ]
  },
  {
   "cell_type": "markdown",
   "id": "27201534",
   "metadata": {
    "id": "27201534"
   },
   "source": [
    "### Exploratory Data Analysis - Step by step approach\n",
    "\n",
    "Typical Data exploration activity consists of the following steps:\n",
    "1.\tImporting Data\n",
    "2.\tVariable Identification\n",
    "3.  Variable Transformation/Feature Creation\n",
    "4.  Missing value detection\n",
    "5.\tUnivariate Analysis\n",
    "6.\tBivariate Analysis"
   ]
  },
  {
   "cell_type": "markdown",
   "id": "6970dd99",
   "metadata": {
    "id": "6970dd99"
   },
   "source": [
    "### Reading the Data into a DataFrame"
   ]
  },
  {
   "cell_type": "code",
   "execution_count": 2,
   "id": "d3b95640",
   "metadata": {
    "id": "d3b95640"
   },
   "outputs": [],
   "source": [
    "# Read the dataset abtest.csv into a DataFrame\n",
    "df = pd.read_csv(\"abtest.csv\") \n"
   ]
  },
  {
   "cell_type": "markdown",
   "id": "a4e471fd",
   "metadata": {
    "id": "a4e471fd"
   },
   "source": [
    "### Data Overview\n",
    "- View a few rows of the data frame.\n",
    "- Check the shape and data types of the data frame. Add observations.\n",
    "- Fix the data-types (if needed).\n",
    "- Missing Value Check.\n",
    "- Summary statistics from the data frame. Add observations."
   ]
  },
  {
   "cell_type": "code",
   "execution_count": 3,
   "id": "e1ad11d4",
   "metadata": {
    "id": "e1ad11d4"
   },
   "outputs": [
    {
     "data": {
      "text/html": [
       "<div>\n",
       "<style scoped>\n",
       "    .dataframe tbody tr th:only-of-type {\n",
       "        vertical-align: middle;\n",
       "    }\n",
       "\n",
       "    .dataframe tbody tr th {\n",
       "        vertical-align: top;\n",
       "    }\n",
       "\n",
       "    .dataframe thead th {\n",
       "        text-align: right;\n",
       "    }\n",
       "</style>\n",
       "<table border=\"1\" class=\"dataframe\">\n",
       "  <thead>\n",
       "    <tr style=\"text-align: right;\">\n",
       "      <th></th>\n",
       "      <th>user_id</th>\n",
       "      <th>group</th>\n",
       "      <th>landing_page</th>\n",
       "      <th>time_spent_on_the_page</th>\n",
       "      <th>converted</th>\n",
       "      <th>language_preferred</th>\n",
       "    </tr>\n",
       "  </thead>\n",
       "  <tbody>\n",
       "    <tr>\n",
       "      <th>0</th>\n",
       "      <td>546592</td>\n",
       "      <td>control</td>\n",
       "      <td>old</td>\n",
       "      <td>3.48</td>\n",
       "      <td>no</td>\n",
       "      <td>Spanish</td>\n",
       "    </tr>\n",
       "    <tr>\n",
       "      <th>1</th>\n",
       "      <td>546468</td>\n",
       "      <td>treatment</td>\n",
       "      <td>new</td>\n",
       "      <td>7.13</td>\n",
       "      <td>yes</td>\n",
       "      <td>English</td>\n",
       "    </tr>\n",
       "    <tr>\n",
       "      <th>2</th>\n",
       "      <td>546462</td>\n",
       "      <td>treatment</td>\n",
       "      <td>new</td>\n",
       "      <td>4.40</td>\n",
       "      <td>no</td>\n",
       "      <td>Spanish</td>\n",
       "    </tr>\n",
       "    <tr>\n",
       "      <th>3</th>\n",
       "      <td>546567</td>\n",
       "      <td>control</td>\n",
       "      <td>old</td>\n",
       "      <td>3.02</td>\n",
       "      <td>no</td>\n",
       "      <td>French</td>\n",
       "    </tr>\n",
       "    <tr>\n",
       "      <th>4</th>\n",
       "      <td>546459</td>\n",
       "      <td>treatment</td>\n",
       "      <td>new</td>\n",
       "      <td>4.75</td>\n",
       "      <td>yes</td>\n",
       "      <td>Spanish</td>\n",
       "    </tr>\n",
       "  </tbody>\n",
       "</table>\n",
       "</div>"
      ],
      "text/plain": [
       "   user_id      group landing_page  time_spent_on_the_page converted  \\\n",
       "0   546592    control          old                    3.48        no   \n",
       "1   546468  treatment          new                    7.13       yes   \n",
       "2   546462  treatment          new                    4.40        no   \n",
       "3   546567    control          old                    3.02        no   \n",
       "4   546459  treatment          new                    4.75       yes   \n",
       "\n",
       "  language_preferred  \n",
       "0            Spanish  \n",
       "1            English  \n",
       "2            Spanish  \n",
       "3             French  \n",
       "4            Spanish  "
      ]
     },
     "execution_count": 3,
     "metadata": {},
     "output_type": "execute_result"
    }
   ],
   "source": [
    "# returns and shows the first 5 rows of the dataset\n",
    "df.head()"
   ]
  },
  {
   "cell_type": "markdown",
   "id": "90ebfbb2",
   "metadata": {},
   "source": [
    "**Observation :** The DataFrame has 6 columns as mentioned in the Data Dictionary."
   ]
  },
  {
   "cell_type": "code",
   "execution_count": 4,
   "id": "0035c83b",
   "metadata": {},
   "outputs": [
    {
     "data": {
      "text/plain": [
       "(100, 6)"
      ]
     },
     "execution_count": 4,
     "metadata": {},
     "output_type": "execute_result"
    }
   ],
   "source": [
    "# returns the number of rows and columns of the DataFrame\n",
    "df.shape"
   ]
  },
  {
   "cell_type": "markdown",
   "id": "a5b24cbd",
   "metadata": {},
   "source": [
    "**Observation :** There are 100 rows and 6 columns in this dataset."
   ]
  },
  {
   "cell_type": "code",
   "execution_count": 5,
   "id": "5e80db3f",
   "metadata": {},
   "outputs": [
    {
     "name": "stdout",
     "output_type": "stream",
     "text": [
      "<class 'pandas.core.frame.DataFrame'>\n",
      "RangeIndex: 100 entries, 0 to 99\n",
      "Data columns (total 6 columns):\n",
      " #   Column                  Non-Null Count  Dtype  \n",
      "---  ------                  --------------  -----  \n",
      " 0   user_id                 100 non-null    int64  \n",
      " 1   group                   100 non-null    object \n",
      " 2   landing_page            100 non-null    object \n",
      " 3   time_spent_on_the_page  100 non-null    float64\n",
      " 4   converted               100 non-null    object \n",
      " 5   language_preferred      100 non-null    object \n",
      "dtypes: float64(1), int64(1), object(4)\n",
      "memory usage: 4.8+ KB\n"
     ]
    }
   ],
   "source": [
    "# Returns information about the DataFrame including the data types of each column and memory usage\n",
    "df.info()"
   ]
  },
  {
   "cell_type": "code",
   "execution_count": 6,
   "id": "110a50c7",
   "metadata": {},
   "outputs": [
    {
     "data": {
      "text/plain": [
       "user_id                   0\n",
       "group                     0\n",
       "landing_page              0\n",
       "time_spent_on_the_page    0\n",
       "converted                 0\n",
       "language_preferred        0\n",
       "dtype: int64"
      ]
     },
     "execution_count": 6,
     "metadata": {},
     "output_type": "execute_result"
    }
   ],
   "source": [
    "# Checking for  missing values in the dataset\n",
    "df.isnull().sum()"
   ]
  },
  {
   "cell_type": "markdown",
   "id": "c0b8d8cb",
   "metadata": {},
   "source": [
    "**Observation :** \n",
    "* There are 4 object data type columns.The group,landing_page,converted and language_preferred columns are object data type columns.\n",
    "* There are 2 numerical columns: user_id column is an integer data type and time_spent_on_the_page column is a float data type.\n",
    "* The memory usage is 4.8+ KB\n",
    "* There are no missing values in this dataset.There are 100 non-null observations in each column which also indicates that there are no missing values in this datase"
   ]
  },
  {
   "cell_type": "markdown",
   "id": "340fb0ba",
   "metadata": {},
   "source": [
    "#### Fixing the datatypes"
   ]
  },
  {
   "cell_type": "code",
   "execution_count": 7,
   "id": "bef3b417",
   "metadata": {},
   "outputs": [
    {
     "name": "stdout",
     "output_type": "stream",
     "text": [
      "<class 'pandas.core.frame.DataFrame'>\n",
      "RangeIndex: 100 entries, 0 to 99\n",
      "Data columns (total 6 columns):\n",
      " #   Column                  Non-Null Count  Dtype   \n",
      "---  ------                  --------------  -----   \n",
      " 0   user_id                 100 non-null    int64   \n",
      " 1   group                   100 non-null    category\n",
      " 2   landing_page            100 non-null    category\n",
      " 3   time_spent_on_the_page  100 non-null    float64 \n",
      " 4   converted               100 non-null    category\n",
      " 5   language_preferred      100 non-null    category\n",
      "dtypes: category(4), float64(1), int64(1)\n",
      "memory usage: 2.6 KB\n"
     ]
    }
   ],
   "source": [
    "# Converting the following attributes of the dataframe from object to categorical data type\n",
    "df[\"group\"] = df[\"group\"].astype(\"category\")\n",
    "df[\"landing_page\"] = df[\"landing_page\"].astype(\"category\") \n",
    "df[\"converted\"] = df[\"converted\"].astype(\"category\")\n",
    "df[\"language_preferred\"] = df[\"language_preferred\"].astype(\"category\")\n",
    "\n",
    "# Returns information about the dataframe including the data types of each column and memory usage\n",
    "df.info()"
   ]
  },
  {
   "cell_type": "markdown",
   "id": "f3b4d8e2",
   "metadata": {},
   "source": [
    "**Observations :**\n",
    "\n",
    "* There are now 4 categorical columns and 2 numerical columns.\n",
    "* Converting group,landing_page,converted and language_preferred columns from object data type to category data type has led to a reduced memory usage from 4.8+ KB to 2.6 KB"
   ]
  },
  {
   "cell_type": "markdown",
   "id": "f954c788",
   "metadata": {},
   "source": [
    "#### Statistical Summary of the data\n"
   ]
  },
  {
   "cell_type": "code",
   "execution_count": 8,
   "id": "453c8a9d",
   "metadata": {},
   "outputs": [
    {
     "data": {
      "text/html": [
       "<div>\n",
       "<style scoped>\n",
       "    .dataframe tbody tr th:only-of-type {\n",
       "        vertical-align: middle;\n",
       "    }\n",
       "\n",
       "    .dataframe tbody tr th {\n",
       "        vertical-align: top;\n",
       "    }\n",
       "\n",
       "    .dataframe thead th {\n",
       "        text-align: right;\n",
       "    }\n",
       "</style>\n",
       "<table border=\"1\" class=\"dataframe\">\n",
       "  <thead>\n",
       "    <tr style=\"text-align: right;\">\n",
       "      <th></th>\n",
       "      <th>count</th>\n",
       "      <th>mean</th>\n",
       "      <th>std</th>\n",
       "      <th>min</th>\n",
       "      <th>25%</th>\n",
       "      <th>50%</th>\n",
       "      <th>75%</th>\n",
       "      <th>max</th>\n",
       "    </tr>\n",
       "  </thead>\n",
       "  <tbody>\n",
       "    <tr>\n",
       "      <th>user_id</th>\n",
       "      <td>100.0</td>\n",
       "      <td>546517.0000</td>\n",
       "      <td>52.295779</td>\n",
       "      <td>546443.00</td>\n",
       "      <td>546467.75</td>\n",
       "      <td>546492.500</td>\n",
       "      <td>546567.2500</td>\n",
       "      <td>546592.00</td>\n",
       "    </tr>\n",
       "    <tr>\n",
       "      <th>time_spent_on_the_page</th>\n",
       "      <td>100.0</td>\n",
       "      <td>5.3778</td>\n",
       "      <td>2.378166</td>\n",
       "      <td>0.19</td>\n",
       "      <td>3.88</td>\n",
       "      <td>5.415</td>\n",
       "      <td>7.0225</td>\n",
       "      <td>10.71</td>\n",
       "    </tr>\n",
       "  </tbody>\n",
       "</table>\n",
       "</div>"
      ],
      "text/plain": [
       "                        count         mean        std        min        25%  \\\n",
       "user_id                 100.0  546517.0000  52.295779  546443.00  546467.75   \n",
       "time_spent_on_the_page  100.0       5.3778   2.378166       0.19       3.88   \n",
       "\n",
       "                               50%          75%        max  \n",
       "user_id                 546492.500  546567.2500  546592.00  \n",
       "time_spent_on_the_page       5.415       7.0225      10.71  "
      ]
     },
     "execution_count": 8,
     "metadata": {},
     "output_type": "execute_result"
    }
   ],
   "source": [
    "# Returns the statistical summary of the numerical variables of the data\n",
    "df.describe().T"
   ]
  },
  {
   "cell_type": "code",
   "execution_count": 9,
   "id": "7f137421",
   "metadata": {},
   "outputs": [
    {
     "data": {
      "text/plain": [
       "100"
      ]
     },
     "execution_count": 9,
     "metadata": {},
     "output_type": "execute_result"
    }
   ],
   "source": [
    "# Returns  number of distinct observations over user_id column\n",
    "df[\"user_id\"].nunique()"
   ]
  },
  {
   "cell_type": "markdown",
   "id": "afbbcf1f",
   "metadata": {},
   "source": [
    "**Observations:**\n",
    "\n",
    "From the summary of numerical variables :\n",
    "\n",
    "* The average time spent by users on the landing page is ~ 5.38 minutes.\n",
    "* The minimum time spent on the page by users is 0.19 minutes and the maximum time spent on the page by users is 10.71 minutes.\n",
    "* The mean and the median time_spent_on_the_page values are almost equal.\n",
    "* There are 100 distinct(unique) users in this dataset."
   ]
  },
  {
   "cell_type": "code",
   "execution_count": 10,
   "id": "9ffe7f54",
   "metadata": {},
   "outputs": [
    {
     "data": {
      "text/html": [
       "<div>\n",
       "<style scoped>\n",
       "    .dataframe tbody tr th:only-of-type {\n",
       "        vertical-align: middle;\n",
       "    }\n",
       "\n",
       "    .dataframe tbody tr th {\n",
       "        vertical-align: top;\n",
       "    }\n",
       "\n",
       "    .dataframe thead th {\n",
       "        text-align: right;\n",
       "    }\n",
       "</style>\n",
       "<table border=\"1\" class=\"dataframe\">\n",
       "  <thead>\n",
       "    <tr style=\"text-align: right;\">\n",
       "      <th></th>\n",
       "      <th>count</th>\n",
       "      <th>unique</th>\n",
       "      <th>top</th>\n",
       "      <th>freq</th>\n",
       "    </tr>\n",
       "  </thead>\n",
       "  <tbody>\n",
       "    <tr>\n",
       "      <th>group</th>\n",
       "      <td>100</td>\n",
       "      <td>2</td>\n",
       "      <td>control</td>\n",
       "      <td>50</td>\n",
       "    </tr>\n",
       "    <tr>\n",
       "      <th>landing_page</th>\n",
       "      <td>100</td>\n",
       "      <td>2</td>\n",
       "      <td>new</td>\n",
       "      <td>50</td>\n",
       "    </tr>\n",
       "    <tr>\n",
       "      <th>converted</th>\n",
       "      <td>100</td>\n",
       "      <td>2</td>\n",
       "      <td>yes</td>\n",
       "      <td>54</td>\n",
       "    </tr>\n",
       "    <tr>\n",
       "      <th>language_preferred</th>\n",
       "      <td>100</td>\n",
       "      <td>3</td>\n",
       "      <td>French</td>\n",
       "      <td>34</td>\n",
       "    </tr>\n",
       "  </tbody>\n",
       "</table>\n",
       "</div>"
      ],
      "text/plain": [
       "                   count unique      top freq\n",
       "group                100      2  control   50\n",
       "landing_page         100      2      new   50\n",
       "converted            100      2      yes   54\n",
       "language_preferred   100      3   French   34"
      ]
     },
     "execution_count": 10,
     "metadata": {},
     "output_type": "execute_result"
    }
   ],
   "source": [
    "# Returns the summary of categorical or non-numeric variables of the data\n",
    "df.describe(exclude='number').T"
   ]
  },
  {
   "cell_type": "code",
   "execution_count": 11,
   "id": "c8b26a36",
   "metadata": {},
   "outputs": [
    {
     "name": "stdout",
     "output_type": "stream",
     "text": [
      "control      50\n",
      "treatment    50\n",
      "Name: group, dtype: int64\n",
      "--------------------------------------------------\n",
      "new    50\n",
      "old    50\n",
      "Name: landing_page, dtype: int64\n",
      "--------------------------------------------------\n",
      "yes    54\n",
      "no     46\n",
      "Name: converted, dtype: int64\n",
      "--------------------------------------------------\n",
      "French     34\n",
      "Spanish    34\n",
      "English    32\n",
      "Name: language_preferred, dtype: int64\n",
      "--------------------------------------------------\n"
     ]
    }
   ],
   "source": [
    "# Making a list of  categorical variables \n",
    "cat_col=[ \"group\", \"landing_page\",\"converted\",\"language_preferred\"]\n",
    "\n",
    "# Printing number of count of each unique value in each categorical column\n",
    "for column in cat_col:\n",
    "    print(df[column].value_counts())\n",
    "    print('-'*50)"
   ]
  },
  {
   "cell_type": "markdown",
   "id": "f8ee6220",
   "metadata": {},
   "source": [
    "**Observation:**\n",
    "\n",
    "From the summary of non-numerical variables :\n",
    "\n",
    "* There are 2 unique groups in this dataset :control and treatment.Each group have 50 users.\n",
    "* There are 2 landing pages : old and new.\n",
    "* There are 54 users (which represents the majority) from this dataset that converted to subscribers after visiting the landing page and 46 users did not get convert to subscribers after visiting the landing page.\n",
    "* There are 3 unique languages in this dataset that users use to view the landing page :French,Spanish and English.English is the least used language by users."
   ]
  },
  {
   "cell_type": "markdown",
   "id": "68f3b2c9",
   "metadata": {
    "id": "68f3b2c9"
   },
   "source": [
    "### Univariate Analysis"
   ]
  },
  {
   "cell_type": "code",
   "execution_count": 12,
   "id": "1932d0f3",
   "metadata": {
    "id": "1932d0f3"
   },
   "outputs": [],
   "source": [
    "# function to plot a boxplot and a histogram along the same scale.\n",
    "\n",
    "def histogram_boxplot(data, feature, figsize=(12, 7), kde=False, bins=None):\n",
    "    \"\"\"\n",
    "    Boxplot and histogram combined\n",
    "\n",
    "    data: dataframe\n",
    "    feature: dataframe column\n",
    "    figsize: size of figure (default (12,7))\n",
    "    kde: whether to show the density curve (default False)\n",
    "    bins: number of bins for histogram (default None)\n",
    "    \"\"\"\n",
    "    f2, (ax_box2, ax_hist2) = plt.subplots(\n",
    "        nrows=2,  # Number of rows of the subplot grid= 2\n",
    "        sharex=True,  # x-axis will be shared among all subplots\n",
    "        gridspec_kw={\"height_ratios\": (0.25, 0.75)},\n",
    "        figsize=figsize,\n",
    "    )  # creating the 2 subplots\n",
    "    sns.boxplot(\n",
    "        data=data, x=feature, ax=ax_box2, showmeans=True, color=\"pink\"\n",
    "    )  # boxplot will be created and a star will indicate the mean value of the column\n",
    "    sns.histplot(\n",
    "        data=data, x=feature, kde=kde, ax=ax_hist2, bins=bins, palette=\"autumn\"\n",
    "    ) if bins else sns.histplot(\n",
    "        data=data, x=feature, kde=kde, ax=ax_hist2\n",
    "    )  # For histogram\n",
    "    ax_hist2.axvline(\n",
    "        data[feature].mean(), color=\"green\", linestyle = \"dashed\"\n",
    "    )  # Add mean to the histogram (broken green line)\n",
    "    ax_hist2.axvline(\n",
    "        data[feature].median(), color=\"red\", linestyle = \"-\"\n",
    "    )  # Add median to the histogram (black line)   \n"
   ]
  },
  {
   "cell_type": "markdown",
   "id": "2039a353",
   "metadata": {},
   "source": [
    "**1. User_id:**"
   ]
  },
  {
   "cell_type": "code",
   "execution_count": 13,
   "id": "be5c9a46",
   "metadata": {},
   "outputs": [
    {
     "data": {
      "text/plain": [
       "100"
      ]
     },
     "execution_count": 13,
     "metadata": {},
     "output_type": "execute_result"
    }
   ],
   "source": [
    "# Returns  number of distinct observations over user_id column\n",
    "df[\"user_id\"].nunique()"
   ]
  },
  {
   "cell_type": "markdown",
   "id": "f2eb2c4b",
   "metadata": {},
   "source": [
    "**Observation:**There are 100 unique users."
   ]
  },
  {
   "cell_type": "markdown",
   "id": "b3ae2096",
   "metadata": {},
   "source": [
    "**2.Time_spent_on_the_page :**"
   ]
  },
  {
   "cell_type": "code",
   "execution_count": 14,
   "id": "0a912578",
   "metadata": {},
   "outputs": [
    {
     "data": {
      "image/png": "[encoded data removed]",
      "text/plain": [
       "<Figure size 864x504 with 2 Axes>"
      ]
     },
     "metadata": {},
     "output_type": "display_data"
    }
   ],
   "source": [
    "# Creating a boxplot and histogram for the time_spent_on_the_page variable\n",
    "# inorder to see the shape its data distribution \n",
    "histogram_boxplot(df, \"time_spent_on_the_page\")"
   ]
  },
  {
   "cell_type": "markdown",
   "id": "d44e0b66",
   "metadata": {},
   "source": [
    "**Observations :**\n",
    "* There are no outliers for time_spent_on_the_page.\n",
    "* The time_spent_on_the_page distribution shows an almost symmetrical distribution(zero skewness).\n",
    "* The time spent on the page by users ranges from ~0.2(minimum ) to ~10.7(maximum) minutes.\n",
    "* Majority of users(represented by the 2 highest peaks) in this dataset spend about 5 and 6 minutes on the landing page."
   ]
  },
  {
   "cell_type": "markdown",
   "id": "0c9836ec",
   "metadata": {},
   "source": [
    "##### Exploring Categorical Variables"
   ]
  },
  {
   "cell_type": "code",
   "execution_count": 15,
   "id": "2fce6350",
   "metadata": {
    "id": "2fce6350"
   },
   "outputs": [],
   "source": [
    "# function to create labeled barplots\n",
    "\n",
    "\n",
    "def labeled_barplot(data, feature, perc=False, n=None):\n",
    "    \"\"\"\n",
    "    Barplot with percentage at the top\n",
    "\n",
    "    data: dataframe\n",
    "    feature: dataframe column\n",
    "    perc: whether to display percentages instead of count (default is False)\n",
    "    n: displays the top n category levels (default is None, i.e., display all levels)\n",
    "    \"\"\"\n",
    "\n",
    "    total = len(data[feature])  # length of the column\n",
    "    count = data[feature].nunique()\n",
    "    if n is None:\n",
    "        plt.figure(figsize=(count + 1, 5))\n",
    "    else:\n",
    "        plt.figure(figsize=(n + 1, 5))\n",
    "\n",
    "    plt.xticks(rotation=40, fontsize=15)\n",
    "    ax = sns.countplot(data=data, x=feature, palette=\"tab10\", order=data[feature].value_counts().index[:n].sort_values())\n",
    "\n",
    "    for p in ax.patches:\n",
    "        if perc == True:\n",
    "            label = \"{:.1f}%\".format(100 * p.get_height() / total)  # percentage of each class of the category\n",
    "        else:\n",
    "            label = p.get_height()  # count of each level of the category\n",
    "\n",
    "        x = p.get_x() + p.get_width() / 2  # width of the plot\n",
    "        y = p.get_height()      # height of the plot\n",
    "\n",
    "        ax.annotate(label, (x, y), ha=\"center\", va=\"center\", size=12, xytext=(0, 5), textcoords=\"offset points\")  # annotate the percentage\n",
    "\n",
    "    plt.show()  # show the plot"
   ]
  },
  {
   "cell_type": "markdown",
   "id": "df0ee88b",
   "metadata": {
    "id": "e6f99481"
   },
   "source": [
    "**Group:**"
   ]
  },
  {
   "cell_type": "code",
   "execution_count": 16,
   "id": "31f040f6",
   "metadata": {},
   "outputs": [
    {
     "data": {
      "image/png": "[encoded data removed]",
      "text/plain": [
       "<Figure size 216x360 with 1 Axes>"
      ]
     },
     "metadata": {},
     "output_type": "display_data"
    }
   ],
   "source": [
    "# Creating a labeled barplot of group variable\n",
    "labeled_barplot(df, \"group\", perc=True)"
   ]
  },
  {
   "cell_type": "markdown",
   "id": "507cd6ca",
   "metadata": {},
   "source": [
    "**Observations :**\n",
    "* The observations are uniformly distributed across the groups."
   ]
  },
  {
   "cell_type": "markdown",
   "id": "c88b9530",
   "metadata": {},
   "source": [
    "**Landing page :**"
   ]
  },
  {
   "cell_type": "code",
   "execution_count": 17,
   "id": "ae90128d",
   "metadata": {},
   "outputs": [
    {
     "data": {
      "image/png": "[encoded data removed]",
      "text/plain": [
       "<Figure size 216x360 with 1 Axes>"
      ]
     },
     "metadata": {},
     "output_type": "display_data"
    }
   ],
   "source": [
    "# Creating a labeled barplot of landing_page variable\n",
    "labeled_barplot(df, \"landing_page\", perc=True)"
   ]
  },
  {
   "cell_type": "markdown",
   "id": "241c6eb5",
   "metadata": {},
   "source": [
    "**Observations :**\n",
    "* The observations are uniformly distributed across the landing pages."
   ]
  },
  {
   "cell_type": "markdown",
   "id": "1de73ccc",
   "metadata": {},
   "source": [
    "**Converted :**"
   ]
  },
  {
   "cell_type": "code",
   "execution_count": 18,
   "id": "5941cdca",
   "metadata": {},
   "outputs": [
    {
     "data": {
      "image/png": "[encoded data removed]",
      "text/plain": [
       "<Figure size 216x360 with 1 Axes>"
      ]
     },
     "metadata": {},
     "output_type": "display_data"
    }
   ],
   "source": [
    "# Creating a labeled barplot of converted variable\n",
    "labeled_barplot(df, \"converted\", perc=True)"
   ]
  },
  {
   "cell_type": "markdown",
   "id": "288c0f8c",
   "metadata": {},
   "source": [
    "**Observations :**\n",
    "* 54.0% of users (which represents majority of users),in the dataset converted to subscribers of the news portal and 46.0% of users in the dataset did not convert to suscribers of the news portal."
   ]
  },
  {
   "cell_type": "markdown",
   "id": "4b07696e",
   "metadata": {},
   "source": [
    "**Language preferred :**"
   ]
  },
  {
   "cell_type": "code",
   "execution_count": 19,
   "id": "e1c71fd8",
   "metadata": {},
   "outputs": [
    {
     "data": {
      "image/png": "[encoded data removed]",
      "text/plain": [
       "<Figure size 288x360 with 1 Axes>"
      ]
     },
     "metadata": {},
     "output_type": "display_data"
    }
   ],
   "source": [
    "# Creating a labeled barplot of language_preferred variable\n",
    "labeled_barplot(df, \"language_preferred\", perc=True)"
   ]
  },
  {
   "cell_type": "markdown",
   "id": "64145e4a",
   "metadata": {},
   "source": [
    "**Observations :**\n",
    "* 34.0% of users choose French language to view the landing page.\n",
    "* 34.0% of users choose Spanish language to view the landing page.\n",
    "* And 32.0% of users(which represents the least used by users) choose english language to view the landing page."
   ]
  },
  {
   "cell_type": "markdown",
   "id": "fad2de2f",
   "metadata": {
    "id": "fad2de2f"
   },
   "source": [
    "### Bivariate Analysis"
   ]
  },
  {
   "cell_type": "markdown",
   "id": "c1dd5eeb",
   "metadata": {
    "id": "58e9a1d0"
   },
   "source": [
    "**1. Time spent on the page vs group :**"
   ]
  },
  {
   "cell_type": "code",
   "execution_count": 20,
   "id": "ee780fea",
   "metadata": {},
   "outputs": [
    {
     "data": {
      "image/png": "[encoded data removed]",
      "text/plain": [
       "<Figure size 864x360 with 2 Axes>"
      ]
     },
     "metadata": {},
     "output_type": "display_data"
    }
   ],
   "source": [
    "# Plotting a histogram and a box plot of time_spent_on_the_page vs group\n",
    "plt.figure(figsize=(12, 5)) \n",
    "plt.subplot(1,2,1,) # creating  2 subplots\n",
    "sns.histplot(data = df, x = \"time_spent_on_the_page\" , hue =\"group\",palette=\"rocket\") # a histogram\n",
    "# will be created \n",
    "\n",
    "plt.subplot(1,2,2)\n",
    "sns.boxplot(df[\"time_spent_on_the_page\"],df[\"group\"]) # a boxplot will be created \n",
    "plt.show()"
   ]
  },
  {
   "cell_type": "markdown",
   "id": "e4ecc46f",
   "metadata": {},
   "source": [
    "**Observations :**\n",
    "* Most users that spend the maximum(the most) amount of time belong to the treatment group.\n",
    "* Majority of users spend about 5 and 6 minutes on the landing page and are from the treatment group.\n",
    "* Most users from the control group also spend about 5 minutes on the landing page.\n",
    "* The lowest or minimum time spent by users are from the control group.\n",
    "* On the boxplot,outliers are seen only on the treatment group of users."
   ]
  },
  {
   "cell_type": "markdown",
   "id": "a0d922ba",
   "metadata": {},
   "source": [
    "**2. Time_spent_on_the_page Vs Landing page :**"
   ]
  },
  {
   "cell_type": "code",
   "execution_count": 21,
   "id": "f98fdbc5",
   "metadata": {},
   "outputs": [
    {
     "data": {
      "image/png": "[encoded data removed]",
      "text/plain": [
       "<Figure size 864x360 with 2 Axes>"
      ]
     },
     "metadata": {},
     "output_type": "display_data"
    }
   ],
   "source": [
    "# Plotting a histogram and a box plot of time_spent_on_the_page vs Landing page\n",
    "plt.figure(figsize=(12, 5)) \n",
    "plt.subplot(1,2,1,) # creating  2 subplots\n",
    "# a histogram will be created \n",
    "sns.histplot(data = df, x = \"time_spent_on_the_page\", hue = \"landing_page\",palette=\"colorblind\")\n",
    "\n",
    "plt.subplot(1,2,2)\n",
    "# a boxplot will be created\n",
    "sns.boxplot(df[\"time_spent_on_the_page\"],df[\"landing_page\"])\n",
    "plt.show()"
   ]
  },
  {
   "cell_type": "markdown",
   "id": "d40fe8c2",
   "metadata": {},
   "source": [
    "**Observations :**\n",
    "* Majority of users spend about 5 and 6 minutes on the new landing page.\n",
    "* The majority of users that spend the maximum amount of(the most) time view the new landing page.\n",
    "* The lowest amount of time is spent by users that view the old landing page.\n",
    "* Majority of users on the old landing page spend about 5 minutes.\n",
    "* On the box plot,outliers is seen only on the new landing page."
   ]
  },
  {
   "cell_type": "markdown",
   "id": "f2d13bce",
   "metadata": {},
   "source": [
    "**3. Time_spent_on_the_page Vs Converted :**"
   ]
  },
  {
   "cell_type": "code",
   "execution_count": 22,
   "id": "9e12a034",
   "metadata": {},
   "outputs": [
    {
     "data": {
      "image/png": "[encoded data removed]",
      "text/plain": [
       "<Figure size 864x360 with 2 Axes>"
      ]
     },
     "metadata": {},
     "output_type": "display_data"
    }
   ],
   "source": [
    "# Plotting a histogram and a box plot of time_spent_on_the_page vs Language_preferred\n",
    "plt.figure(figsize=(12, 5)) \n",
    "plt.subplot(1,2,1,) # creating  2 subplots\n",
    "# a histogram will be created \n",
    "sns.histplot(data = df, x = \"time_spent_on_the_page\", hue = \"converted\",palette=\"husl\")\n",
    "\n",
    "plt.subplot(1,2,2)\n",
    "# a boxplot will be created\n",
    "sns.boxplot(df[\"time_spent_on_the_page\"],df[\"converted\"])\n",
    "plt.show()"
   ]
  },
  {
   "cell_type": "markdown",
   "id": "0cc5b4e0",
   "metadata": {},
   "source": [
    "**Observations :**\n",
    "* Users who spent the highest time on the landing page converted to subscribers of the news portal.\n",
    "* Majority of users who spent about 6 minutes on the landing page converted to subscribers of the news portal.\n",
    "* Users who spent the lowest time on the landing page did not convert to subscribers of the news portal.\n",
    "* On the boxplot of time_spent_on_the_page vs Converted,outliers are seen on both the users that converted to subscribers and those that did not convert to subscribers."
   ]
  },
  {
   "cell_type": "markdown",
   "id": "1691d37b",
   "metadata": {},
   "source": [
    "**4. Time_spent_on_the_page vs Language_preferred :**"
   ]
  },
  {
   "cell_type": "code",
   "execution_count": 23,
   "id": "d2b22cf0",
   "metadata": {},
   "outputs": [
    {
     "data": {
      "image/png": "[encoded data removed]",
      "text/plain": [
       "<Figure size 576x360 with 1 Axes>"
      ]
     },
     "metadata": {},
     "output_type": "display_data"
    }
   ],
   "source": [
    "# Plotting a boxplot of time_spent_on_the_page vs Language_preferred\n",
    "plt.figure(figsize=(8, 5)) \n",
    "sns.boxplot(df[\"language_preferred\"],df[\"time_spent_on_the_page\"])\n",
    "plt.show()"
   ]
  },
  {
   "cell_type": "markdown",
   "id": "58872d24",
   "metadata": {},
   "source": [
    "**Observations :**\n",
    "* Users that choosed French language spent the maximum time to view the landing page.\n",
    "* Users that choosed Spanish language spent the lowest time to view the landing page.\n",
    "* Outliers is seen only on the spanish language."
   ]
  },
  {
   "cell_type": "markdown",
   "id": "54790b82",
   "metadata": {},
   "source": [
    "**5. Converted vs Landing_page :**"
   ]
  },
  {
   "cell_type": "code",
   "execution_count": 24,
   "id": "7e9c6b0b",
   "metadata": {},
   "outputs": [
    {
     "data": {
      "image/png": "[encoded data removed]",
      "text/plain": [
       "<Figure size 576x360 with 1 Axes>"
      ]
     },
     "metadata": {},
     "output_type": "display_data"
    }
   ],
   "source": [
    "# Plotting a labeled bar plot of Converted vs Landing_page\n",
    "plt.figure(figsize=(8,5))\n",
    "total = float(len(df))\n",
    "ax = sns.countplot(x=\"converted\", hue=\"landing_page\", data=df,palette=\"crest\")\n",
    "for p in ax.patches:\n",
    "    percentage = '{:.1f}%'.format(100 * p.get_height()/total)\n",
    "    x = p.get_x() + p.get_width()\n",
    "    y = p.get_height()\n",
    "    ax.annotate(percentage,(x, y), ha=\"center\",va=\"center\",size=12,xytext=(0, 5),textcoords=\"offset points\")\n",
    "plt.show()"
   ]
  },
  {
   "cell_type": "markdown",
   "id": "2231a68f",
   "metadata": {},
   "source": [
    "**Observations :**\n",
    "* 33.0% of users who viewed the new landing page,converted to subscribers of the news portal.These users constitute the majority of those that converted to subscribers of the news portal.21.0% of users who viewed the old landing page,converted to subscribers.\n",
    "* On the otherhand,29.0% of users who viewed the old landing page,did not convert to subscribers of the news portal.These users constitute the majority of those who did not convert to subscribers of the news portal.17.0% of users who viewed the new landing page,did not convert to subscribers."
   ]
  },
  {
   "cell_type": "markdown",
   "id": "ae510b09",
   "metadata": {},
   "source": [
    "**6.Converted vs Language_preferred :**"
   ]
  },
  {
   "cell_type": "code",
   "execution_count": 25,
   "id": "fd9988c9",
   "metadata": {},
   "outputs": [
    {
     "data": {
      "image/png": "[encoded data removed]",
      "text/plain": [
       "<Figure size 576x360 with 1 Axes>"
      ]
     },
     "metadata": {},
     "output_type": "display_data"
    }
   ],
   "source": [
    "# Plotting  a labeled bar plot of Converted vs language_preferred\n",
    "plt.figure(figsize=(8,5))\n",
    "total = float(len(df))\n",
    "ax = sns.countplot(x=\"converted\", hue=\"language_preferred\", data=df,palette=\"bright\")\n",
    "for p in ax.patches:\n",
    "    percentage = '{:.1f}%'.format(100 * p.get_height()/total)\n",
    "    x = p.get_x() + p.get_width()\n",
    "    y = p.get_height()\n",
    "    ax.annotate(percentage,(x, y), ha=\"center\",va=\"center\",size=12,xytext=(0, 5),textcoords=\"offset points\")\n",
    "plt.show()"
   ]
  },
  {
   "cell_type": "markdown",
   "id": "5efb6c0e",
   "metadata": {},
   "source": [
    "**Observations :**\n",
    "* 21.0% of users that choosed English language to view the landing page, converted to subscribers of the news portal.These users constitute the majority of those that converted to subscibers.18.0% of users who choosed French language,converted to subscribers of the news portal.15.0% of the users(the minority in this case) that choosed Spanish language to view the page converted to subscribers of the news portal.\n",
    "* On the otherhand,19.0% of users that choosed french language to view the landing page,did not convert to subscribers of the news portal.These users are the majority of those that did not convert to subscribers.16.0% of users who choosed Spanish language to view the landing page did not convert to subscribers.11.0% of the users(the minority in this case) that choosed English language to view the page did not convert to subscribers of the news portal."
   ]
  },
  {
   "cell_type": "markdown",
   "id": "27906576",
   "metadata": {
    "id": "27906576"
   },
   "source": [
    "## 2. Do the users spend more time on the new landing page than the existing landing page? (10 Marks)"
   ]
  },
  {
   "cell_type": "markdown",
   "id": "e5fdf0c8",
   "metadata": {
    "id": "e5fdf0c8"
   },
   "source": [
    "### Perform Visual Analysis"
   ]
  },
  {
   "cell_type": "code",
   "execution_count": 26,
   "id": "6eZJa41eg21n",
   "metadata": {
    "id": "6eZJa41eg21n"
   },
   "outputs": [
    {
     "data": {
      "image/png": "[encoded data removed]",
      "text/plain": [
       "<Figure size 576x360 with 1 Axes>"
      ]
     },
     "metadata": {},
     "output_type": "display_data"
    }
   ],
   "source": [
    "# Visual analysis of the time spent on the new landing page\n",
    "# and the time spent on the old existing landing page\n",
    "plt.figure(figsize=(8, 5)) \n",
    "sns.boxplot(df[\"time_spent_on_the_page\"],df[\"landing_page\"],showmeans=True)\n",
    "plt.show()"
   ]
  },
  {
   "cell_type": "code",
   "execution_count": 27,
   "id": "6cd30f90",
   "metadata": {},
   "outputs": [
    {
     "data": {
      "text/plain": [
       "landing_page\n",
       "new    6.2232\n",
       "old    4.5324\n",
       "Name: time_spent_on_the_page, dtype: float64"
      ]
     },
     "execution_count": 27,
     "metadata": {},
     "output_type": "execute_result"
    }
   ],
   "source": [
    "# Finding the mean time spent on the new and old landing page\n",
    "df.groupby([\"landing_page\"])[\"time_spent_on_the_page\"].mean()"
   ]
  },
  {
   "cell_type": "markdown",
   "id": "07137fcd",
   "metadata": {},
   "source": [
    "**Observations:**\n",
    "* The mean and median time spent on the page by users is higher on the new landing page than the old landing page\n",
    "* Outliers are seen on the new landing page."
   ]
  },
  {
   "cell_type": "markdown",
   "id": "56b3dafd",
   "metadata": {
    "id": "56b3dafd"
   },
   "source": [
    "### Step 1: Define the null and alternate hypotheses"
   ]
  },
  {
   "cell_type": "markdown",
   "id": "d2ac77ef",
   "metadata": {
    "id": "d2ac77ef"
   },
   "source": [
    "$H_0:$ The mean time spent on the new landing page is equal to the mean time spent on the old existing page.\n",
    "\n",
    "$H_a:$ The mean time spent on the new landing page is greater to the mean time spent on the old existing page.\n",
    "\n",
    "Let $\\mu_1$ and $\\mu_2$ be the mean time spent on the new landing page and the mean time spent on the old existing page respectively.\n",
    "\n",
    "Mathematically, the above formulated hypotheses can be written as:\n",
    "\n",
    "$H_0: \\mu_1 = \\mu_2$\n",
    "\n",
    "$H_a: \\mu_1 > \\mu_2$"
   ]
  },
  {
   "cell_type": "markdown",
   "id": "c7ee4907",
   "metadata": {
    "id": "c7ee4907"
   },
   "source": [
    "### Step 2: Select Appropriate test"
   ]
  },
  {
   "cell_type": "markdown",
   "id": "2c183cd7",
   "metadata": {
    "id": "2c183cd7"
   },
   "source": [
    "This is a case of a one-tailed two-sample mean test.The two samples are two independent populations(treatment group and control group) and moreover,the population standard deviations are unknown.Hence,**a two independent sample t-test will be appropriate for this case.**"
   ]
  },
  {
   "cell_type": "markdown",
   "id": "3f58c9a7",
   "metadata": {
    "id": "3f58c9a7"
   },
   "source": [
    "### Step 3: Decide the significance level"
   ]
  },
  {
   "cell_type": "markdown",
   "id": "92d7d7ee",
   "metadata": {
    "id": "92d7d7ee"
   },
   "source": [
    "As given in the problem statement,α = 0.05 is selected as the significance level."
   ]
  },
  {
   "cell_type": "markdown",
   "id": "5fed2eac",
   "metadata": {
    "id": "5fed2eac"
   },
   "source": [
    "### Step 4: Collect and prepare data"
   ]
  },
  {
   "cell_type": "code",
   "execution_count": 28,
   "id": "f5a59495",
   "metadata": {
    "id": "f5a59495"
   },
   "outputs": [],
   "source": [
    "# Filtering the data to seperate the time spent by users on the new landing page from the rest of data\n",
    "time_spent_on_new_page = df[df[\"landing_page\"]==\"new\"][\"time_spent_on_the_page\"]\n",
    "\n",
    "# Filtering the data to seperate the time spent by users on old existing page from the rest of data\n",
    "time_spent_on_old_page = df[df[\"landing_page\"]==\"old\"][\"time_spent_on_the_page\"]"
   ]
  },
  {
   "cell_type": "code",
   "execution_count": 29,
   "id": "83b16135",
   "metadata": {},
   "outputs": [],
   "source": [
    "# Calculating the sample standard deviation of the time spent on the new landing page\n",
    "# and storing it in a variable std_new\n",
    "std_new = time_spent_on_new_page.std()\n",
    "\n",
    "# Calculating the sample standard deviation of the time spent on the old landing page\n",
    "# and storing it in a variable std_old\n",
    "std_old = time_spent_on_old_page.std()"
   ]
  },
  {
   "cell_type": "code",
   "execution_count": 30,
   "id": "35a8320f",
   "metadata": {},
   "outputs": [
    {
     "name": "stdout",
     "output_type": "stream",
     "text": [
      "The standard deviation of the time spent on the new landing page is : 1.82\n",
      "The standard deviation of the time spent on the old existing landing page is : 2.58\n"
     ]
    }
   ],
   "source": [
    "# Printing the value of the sample standard deviation of the time spent on the new landing page\n",
    "print(\"The standard deviation of the time spent on the new landing page is :\",round(std_new,2))\n",
    "\n",
    "# Printing the value of the sample standard deviation of the time spent on the \n",
    "# old existing landing page\n",
    "print(\"The standard deviation of the time spent on the old existing landing page is :\",\n",
    "      round(std_old,2))\n",
    "\n",
    "# Comparing both samples standard deviations "
   ]
  },
  {
   "cell_type": "markdown",
   "id": "78c73d2f",
   "metadata": {},
   "source": [
    "**Observation:**\n",
    "The standard deviations for both samples(time spent on the new landing page and time spent on the old existing landing page) are unequal. As the sample standard deviations are different, the population standard deviations may be assumed to be different."
   ]
  },
  {
   "cell_type": "markdown",
   "id": "f5c5258d",
   "metadata": {
    "id": "f5c5258d"
   },
   "source": [
    "### Step 5: Calculate the p-value"
   ]
  },
  {
   "cell_type": "code",
   "execution_count": 31,
   "id": "fac8594a",
   "metadata": {
    "id": "fac8594a"
   },
   "outputs": [
    {
     "name": "stdout",
     "output_type": "stream",
     "text": [
      "The p-value is  0.0001392381225166549\n"
     ]
    }
   ],
   "source": [
    "#import the required function to carry out the two independent sample t-test \n",
    "from scipy.stats import ttest_ind\n",
    "\n",
    "#  calculating the p-value\n",
    "test_stat, p_value = ttest_ind(df[df[\"landing_page\"]==\"new\"][\"time_spent_on_the_page\"], \n",
    "                               df[df[\"landing_page\"]==\"old\"][\"time_spent_on_the_page\"],\n",
    "                               equal_var = False,alternative = 'greater')\n",
    "print('The p-value is ', p_value)\n"
   ]
  },
  {
   "cell_type": "markdown",
   "id": "359b12f8",
   "metadata": {
    "id": "359b12f8"
   },
   "source": [
    "### Step 6: Compare the p-value with $\\alpha$"
   ]
  },
  {
   "cell_type": "code",
   "execution_count": 32,
   "id": "7be47289",
   "metadata": {
    "id": "7be47289"
   },
   "outputs": [
    {
     "name": "stdout",
     "output_type": "stream",
     "text": [
      "As the p-value 0.0001392381225166549 is less than the level of significance,we reject the null hypothesis.\n"
     ]
    }
   ],
   "source": [
    "# print the conclusion based on p-value\n",
    "if p_value < 0.05:\n",
    "    print(f\"As the p-value {p_value} is less than the level of significance,we reject the null hypothesis.\")\n",
    "else:\n",
    "    print(f\"As the p-value {p_value} is greater than the level of significance,we fail to reject the null hypothesis.\")"
   ]
  },
  {
   "cell_type": "markdown",
   "id": "d9affc84",
   "metadata": {
    "id": "d9affc84"
   },
   "source": [
    "### Step 7:  Draw inference"
   ]
  },
  {
   "cell_type": "markdown",
   "id": "6b16dd4b",
   "metadata": {
    "id": "6b16dd4b"
   },
   "source": [
    "Since the p-value(~0.000139) is < 0.05, we reject the null hypothesis. Hence, we have enough statistical evidence to say that the users spend more time on the new landing page than the old existing landing page."
   ]
  },
  {
   "cell_type": "markdown",
   "id": "353e9d24",
   "metadata": {
    "id": "353e9d24"
   },
   "source": [
    "## 3. Is the conversion rate (the proportion of users who visit the landing page and get converted) for the new page greater than the conversion rate for the old page? (10 Marks)"
   ]
  },
  {
   "cell_type": "markdown",
   "id": "244f7b47",
   "metadata": {
    "id": "b7f52898"
   },
   "source": [
    "### Perform Visual Analysis"
   ]
  },
  {
   "cell_type": "code",
   "execution_count": 33,
   "id": "f061bd72",
   "metadata": {},
   "outputs": [
    {
     "data": {
      "image/png": "[encoded data removed]",
      "text/plain": [
       "<Figure size 432x288 with 1 Axes>"
      ]
     },
     "metadata": {},
     "output_type": "display_data"
    }
   ],
   "source": [
    "# Visual analysis of the conversion rate for the new page and that for the old page\n",
    "# Creating a stacked bar plot to compare the distributions of two categorical variables-\n",
    "# converted and landing page\n",
    "pd.crosstab(df[\"converted\"],df[\"landing_page\"]).plot(kind='bar',stacked =True)\n",
    "plt.legend()\n",
    "plt.xticks(rotation=40, fontsize=15)\n",
    "plt.show()"
   ]
  },
  {
   "cell_type": "markdown",
   "id": "f9cdacf4",
   "metadata": {},
   "source": [
    "**Observation:**\n",
    "* From the above visual analysis,the proportion of users who visit the new landing page and get converted to subscribers of the news portal is more than the proportion of users who visit the old landing page and get converted to subscribers of the news portal."
   ]
  },
  {
   "cell_type": "markdown",
   "id": "a43e46cd",
   "metadata": {},
   "source": [
    "### Step 1: Define the null and alternative hypotheses"
   ]
  },
  {
   "cell_type": "markdown",
   "id": "7797fac9",
   "metadata": {},
   "source": [
    "$H_0:$ The proportion of users who visit the new landing page and get converted is equal to the proportion of users who visit the old landing page and get converted.\n",
    "\n",
    "$H_a:$ The proportion of users who visit the new landing page and get converted is greater than the proportion of users who visit the old landing page and get converted.\n",
    "\n",
    "Let $p_1$ and $p_2$  be the proportions of users who visit the new landing page and the old landing page and get converted ,respectfully.\n",
    "\n",
    "Mathematically, the above formulated hypotheses can be written as:\n",
    "\n",
    "$H_0: p_1 = p_2$\n",
    "\n",
    "$H_a: p_1 > p_2$"
   ]
  },
  {
   "cell_type": "markdown",
   "id": "fc034519",
   "metadata": {},
   "source": [
    "### Step 2: Select Appropriate test"
   ]
  },
  {
   "cell_type": "markdown",
   "id": "58b110a2",
   "metadata": {},
   "source": [
    "* This is a case of a one-tailed test concerned with two populations proportions from two independent populations(treatment group and control group).**Therefore, a two proportions z-test will be appropriate for this case.**"
   ]
  },
  {
   "cell_type": "markdown",
   "id": "911f3d5a",
   "metadata": {},
   "source": [
    "### Step 3: Decide the significance level"
   ]
  },
  {
   "cell_type": "markdown",
   "id": "a9d0abbb",
   "metadata": {},
   "source": [
    "As given in the problem statement,α = 0.05 is selected as the significance level."
   ]
  },
  {
   "cell_type": "markdown",
   "id": "07422746",
   "metadata": {},
   "source": [
    "### Step 4: Collect and prepare data"
   ]
  },
  {
   "cell_type": "code",
   "execution_count": 34,
   "id": "5e35e8b4",
   "metadata": {},
   "outputs": [
    {
     "name": "stdout",
     "output_type": "stream",
     "text": [
      "The number of users who visit the new landing page and get converted is : 33\n",
      "The number of users who visit the old landing page and get converted is : 21\n"
     ]
    }
   ],
   "source": [
    "# Finding the number of users who visit the new landing page and get converted\n",
    "users_new_converted = df[df[\"landing_page\"]==\"new\"][\"converted\"].value_counts()['yes']\n",
    "\n",
    "# Finding the number of users who visit the old landing page and get converted\n",
    "users_old_converted = df[df[\"landing_page\"]==\"old\"][\"converted\"].value_counts()['yes']\n",
    "\n",
    "# Printing the values of the users who visit the new landing page and get converted and\n",
    "# \"The number of users who visit the old landing page and get converted\n",
    "print(\"The number of users who visit the new landing page and get converted is :\",users_new_converted)\n",
    "print(\"The number of users who visit the old landing page and get converted is :\",users_old_converted)"
   ]
  },
  {
   "cell_type": "code",
   "execution_count": 35,
   "id": "0e8d0927",
   "metadata": {},
   "outputs": [
    {
     "name": "stdout",
     "output_type": "stream",
     "text": [
      "The total number of users served the new landing page is : 50\n",
      "The total number of users served the old landing page is : 50\n"
     ]
    }
   ],
   "source": [
    "# Finding the total number of users who visits the new landing page-the treatment group\n",
    "n_users_new = df[\"landing_page\"].value_counts()[\"new\"]\n",
    "\n",
    "# Finding the total number of users who visits the old landing page-the control group\n",
    "n_users_old = df[\"landing_page\"].value_counts()[\"old\"]\n",
    "\n",
    "# Printing the total number of users served the new landing page and \n",
    "# the total number of users served the old landing page\n",
    "print(\"The total number of users served the new landing page is :\",n_users_new)\n",
    "print(\"The total number of users served the old landing page is :\",n_users_old)"
   ]
  },
  {
   "cell_type": "markdown",
   "id": "cb82ba57",
   "metadata": {},
   "source": [
    "**Observation:**\n",
    "* From the above calculations,it's seen that the proportion of users who visit the new landing page and get converted(33/50) is greater than the proportion of users who visit the old landing page and get converted(21/50)."
   ]
  },
  {
   "cell_type": "markdown",
   "id": "0d2db439",
   "metadata": {},
   "source": [
    "### Step 5: Calculate the p-value"
   ]
  },
  {
   "cell_type": "code",
   "execution_count": 36,
   "id": "5d2e4fd7",
   "metadata": {},
   "outputs": [
    {
     "name": "stdout",
     "output_type": "stream",
     "text": [
      "The p-value is 0.008026308204056278\n"
     ]
    }
   ],
   "source": [
    "# import the required fuction to perform the two proportions z-test\n",
    "from statsmodels.stats.proportion import proportions_ztest\n",
    "\n",
    "# finding the p-value using proportion_ztest\n",
    "test_stat, p_value = proportions_ztest([users_new_converted, users_old_converted] , \n",
    "                                       [n_users_new, n_users_old],alternative = 'larger')\n",
    "# printing the p-value\n",
    "print('The p-value is', p_value)"
   ]
  },
  {
   "cell_type": "markdown",
   "id": "36c9e6ac",
   "metadata": {},
   "source": [
    "### Step 6: Compare the p-value with $\\alpha$"
   ]
  },
  {
   "cell_type": "code",
   "execution_count": 37,
   "id": "5a0aa102",
   "metadata": {},
   "outputs": [
    {
     "name": "stdout",
     "output_type": "stream",
     "text": [
      "As the p-value 0.008026308204056278 is less than the level of significance,we reject the null hypothesis.\n"
     ]
    }
   ],
   "source": [
    "# print the conclusion based on p-value\n",
    "if p_value < 0.05:\n",
    "    print(f\"As the p-value {p_value} is less than the level of significance,we reject the null hypothesis.\")\n",
    "else:\n",
    "    print(f\"As the p-value {p_value} is greater than the level of significance,we fail to reject the null hypothesis.\")"
   ]
  },
  {
   "cell_type": "markdown",
   "id": "d6240eb0",
   "metadata": {},
   "source": [
    "### Step 7:  Draw inference"
   ]
  },
  {
   "cell_type": "markdown",
   "id": "8ebb9c83",
   "metadata": {},
   "source": [
    "Since the pvalue(~0.008) is < 0.05, we reject the null hypothesis. Hence, we have enough statistical evidence to say that the conversion rate (the proportion of users who visit the landing page and get converted) for the new page is greater than the conversion rate for the old page."
   ]
  },
  {
   "cell_type": "markdown",
   "id": "3a87f8f2",
   "metadata": {},
   "source": [
    "### Step 7:  Draw inference"
   ]
  },
  {
   "cell_type": "markdown",
   "id": "32b96b35",
   "metadata": {},
   "source": [
    "Since the pvalue(~0.008) is < 0.05, we reject the null hypothesis. Hence, we have enough statistical evidence to say that the conversion rate (the proportion of users who visit the landing page and get converted) for the new page is greater than the conversion rate for the old page."
   ]
  },
  {
   "cell_type": "markdown",
   "id": "d49bfa2d",
   "metadata": {
    "id": "d49bfa2d"
   },
   "source": [
    "## 4. Is the conversion and preferred language are independent or related? (10 Marks)"
   ]
  },
  {
   "cell_type": "markdown",
   "id": "fa6aeeab",
   "metadata": {
    "id": "b0e63f17"
   },
   "source": [
    "### Perform Visual Analysis"
   ]
  },
  {
   "cell_type": "code",
   "execution_count": 38,
   "id": "78e4a8e5",
   "metadata": {},
   "outputs": [
    {
     "data": {
      "image/png": "[encoded data removed]",
      "text/plain": [
       "<Figure size 432x288 with 1 Axes>"
      ]
     },
     "metadata": {},
     "output_type": "display_data"
    }
   ],
   "source": [
    "# Visual analysis of  conversion and preferred language\n",
    "# Creating a stacked bar plot to compare the distributions of two categorical variables-\n",
    "# conversion and preferred language\n",
    "pd.crosstab(df[\"converted\"],df[\"language_preferred\"]).plot(kind='bar',stacked =True)\n",
    "plt.legend(loc = 'upper left')\n",
    "plt.xticks(rotation=40, fontsize=15)\n",
    "plt.show()"
   ]
  },
  {
   "cell_type": "markdown",
   "id": "d5598b69",
   "metadata": {},
   "source": [
    "**Observation:**\n",
    "* From the above plot,the count of the users who choosed english language got the highest number of conversion.\n",
    "* On the otherhand,the count of users who choosed french language got the lowest number of conversion."
   ]
  },
  {
   "cell_type": "markdown",
   "id": "e1eda337",
   "metadata": {},
   "source": [
    "### Step 1: Define the null and alternative hypotheses"
   ]
  },
  {
   "cell_type": "markdown",
   "id": "6bddcf34",
   "metadata": {},
   "source": [
    "$H_0:$ Conversion is independent of preferred language.\n",
    "\n",
    "$H_a:$ Conversion is **NOT independent** of the preferred language."
   ]
  },
  {
   "cell_type": "markdown",
   "id": "dd72bb04",
   "metadata": {},
   "source": [
    "### Step 2: Select Appropriate test"
   ]
  },
  {
   "cell_type": "markdown",
   "id": "26f5ad89",
   "metadata": {},
   "source": [
    "This is a case which involves the test of independence of two categorical variables-converted and language_preferred.Therefore,the formulated hypotheses can be appropriately tested **using a Chi-square test of independence.**"
   ]
  },
  {
   "cell_type": "markdown",
   "id": "0564a55d",
   "metadata": {},
   "source": [
    "### Step 3: Decide the significance level"
   ]
  },
  {
   "cell_type": "markdown",
   "id": "d6c6eee9",
   "metadata": {},
   "source": [
    "As given in the problem statement, 𝛼 = 0.05 is selected as the significance level."
   ]
  },
  {
   "cell_type": "markdown",
   "id": "7354c23d",
   "metadata": {},
   "source": [
    "### Step 4: Collect and prepare data"
   ]
  },
  {
   "cell_type": "code",
   "execution_count": 39,
   "id": "5fc7d6d2",
   "metadata": {},
   "outputs": [
    {
     "data": {
      "text/html": [
       "<div>\n",
       "<style scoped>\n",
       "    .dataframe tbody tr th:only-of-type {\n",
       "        vertical-align: middle;\n",
       "    }\n",
       "\n",
       "    .dataframe tbody tr th {\n",
       "        vertical-align: top;\n",
       "    }\n",
       "\n",
       "    .dataframe thead th {\n",
       "        text-align: right;\n",
       "    }\n",
       "</style>\n",
       "<table border=\"1\" class=\"dataframe\">\n",
       "  <thead>\n",
       "    <tr style=\"text-align: right;\">\n",
       "      <th>language_preferred</th>\n",
       "      <th>English</th>\n",
       "      <th>French</th>\n",
       "      <th>Spanish</th>\n",
       "    </tr>\n",
       "    <tr>\n",
       "      <th>converted</th>\n",
       "      <th></th>\n",
       "      <th></th>\n",
       "      <th></th>\n",
       "    </tr>\n",
       "  </thead>\n",
       "  <tbody>\n",
       "    <tr>\n",
       "      <th>no</th>\n",
       "      <td>11</td>\n",
       "      <td>19</td>\n",
       "      <td>16</td>\n",
       "    </tr>\n",
       "    <tr>\n",
       "      <th>yes</th>\n",
       "      <td>21</td>\n",
       "      <td>15</td>\n",
       "      <td>18</td>\n",
       "    </tr>\n",
       "  </tbody>\n",
       "</table>\n",
       "</div>"
      ],
      "text/plain": [
       "language_preferred  English  French  Spanish\n",
       "converted                                   \n",
       "no                       11      19       16\n",
       "yes                      21      15       18"
      ]
     },
     "execution_count": 39,
     "metadata": {},
     "output_type": "execute_result"
    }
   ],
   "source": [
    "# creating a contingency table showing the distribution of the two categorical variables-converted\n",
    "# and language_preferred\n",
    "contingency_table = pd.crosstab(df[\"converted\"],df[\"language_preferred\"])\n",
    "contingency_table"
   ]
  },
  {
   "cell_type": "markdown",
   "id": "aad257f0",
   "metadata": {},
   "source": [
    "**Observation:**\n",
    "* A two-by-two contingency table was created , with the counts of 'language_preferred' (English, French, or Spanish)in the rows and the counts of 'converted ' (Yes or No) in the columns."
   ]
  },
  {
   "cell_type": "markdown",
   "id": "971627bc",
   "metadata": {},
   "source": [
    "### Step 5: Calculate the p-value"
   ]
  },
  {
   "cell_type": "code",
   "execution_count": 40,
   "id": "046d450c",
   "metadata": {},
   "outputs": [
    {
     "name": "stdout",
     "output_type": "stream",
     "text": [
      "The p-value is 0.21298887487543447\n"
     ]
    }
   ],
   "source": [
    "# import the required function required to carryout the Chi-square test of independence.\n",
    "from scipy.stats import chi2_contingency\n",
    "\n",
    "# find the p-value\n",
    "chi, p_value, dof, expected = chi2_contingency(contingency_table)\n",
    "print('The p-value is', p_value)"
   ]
  },
  {
   "cell_type": "markdown",
   "id": "b7a10d35",
   "metadata": {},
   "source": [
    "### Step 6: Compare the p-value with $\\alpha$"
   ]
  },
  {
   "cell_type": "code",
   "execution_count": 41,
   "id": "bed1e800",
   "metadata": {},
   "outputs": [
    {
     "name": "stdout",
     "output_type": "stream",
     "text": [
      "As the p-value 0.21298887487543447 is greater than the level of significance,we fail to reject the null hypothesis.\n"
     ]
    }
   ],
   "source": [
    "# print the conclusion based on p-value\n",
    "if p_value < 0.05:\n",
    "    print(f\"As the p-value {p_value} is less than the level of significance,we reject the null hypothesis.\")\n",
    "else:\n",
    "    print(f\"As the p-value {p_value} is greater than the level of significance,we fail to reject the null hypothesis.\")"
   ]
  },
  {
   "cell_type": "markdown",
   "id": "817980e5",
   "metadata": {},
   "source": [
    "### Step 7:  Draw inference"
   ]
  },
  {
   "cell_type": "markdown",
   "id": "2ec8c808",
   "metadata": {},
   "source": [
    "At 5% significance level, we fail to reject the null hypothesis. Hence we have enough statistical evidence to say that conversion is independent on the preferred language."
   ]
  },
  {
   "cell_type": "markdown",
   "id": "8d585a90",
   "metadata": {
    "id": "8d585a90"
   },
   "source": [
    "## 5. Is the time spent on the new page same for the different language users? (10 Marks)"
   ]
  },
  {
   "cell_type": "markdown",
   "id": "385ffde7",
   "metadata": {
    "id": "b422f395"
   },
   "source": [
    "### Perform Visual Analysis"
   ]
  },
  {
   "cell_type": "code",
   "execution_count": 42,
   "id": "21cc7abe",
   "metadata": {},
   "outputs": [
    {
     "data": {
      "text/html": [
       "<div>\n",
       "<style scoped>\n",
       "    .dataframe tbody tr th:only-of-type {\n",
       "        vertical-align: middle;\n",
       "    }\n",
       "\n",
       "    .dataframe tbody tr th {\n",
       "        vertical-align: top;\n",
       "    }\n",
       "\n",
       "    .dataframe thead th {\n",
       "        text-align: right;\n",
       "    }\n",
       "</style>\n",
       "<table border=\"1\" class=\"dataframe\">\n",
       "  <thead>\n",
       "    <tr style=\"text-align: right;\">\n",
       "      <th></th>\n",
       "      <th>user_id</th>\n",
       "      <th>group</th>\n",
       "      <th>landing_page</th>\n",
       "      <th>time_spent_on_the_page</th>\n",
       "      <th>converted</th>\n",
       "      <th>language_preferred</th>\n",
       "    </tr>\n",
       "  </thead>\n",
       "  <tbody>\n",
       "    <tr>\n",
       "      <th>1</th>\n",
       "      <td>546468</td>\n",
       "      <td>treatment</td>\n",
       "      <td>new</td>\n",
       "      <td>7.13</td>\n",
       "      <td>yes</td>\n",
       "      <td>English</td>\n",
       "    </tr>\n",
       "    <tr>\n",
       "      <th>2</th>\n",
       "      <td>546462</td>\n",
       "      <td>treatment</td>\n",
       "      <td>new</td>\n",
       "      <td>4.40</td>\n",
       "      <td>no</td>\n",
       "      <td>Spanish</td>\n",
       "    </tr>\n",
       "    <tr>\n",
       "      <th>4</th>\n",
       "      <td>546459</td>\n",
       "      <td>treatment</td>\n",
       "      <td>new</td>\n",
       "      <td>4.75</td>\n",
       "      <td>yes</td>\n",
       "      <td>Spanish</td>\n",
       "    </tr>\n",
       "    <tr>\n",
       "      <th>6</th>\n",
       "      <td>546448</td>\n",
       "      <td>treatment</td>\n",
       "      <td>new</td>\n",
       "      <td>5.25</td>\n",
       "      <td>yes</td>\n",
       "      <td>French</td>\n",
       "    </tr>\n",
       "    <tr>\n",
       "      <th>8</th>\n",
       "      <td>546461</td>\n",
       "      <td>treatment</td>\n",
       "      <td>new</td>\n",
       "      <td>10.71</td>\n",
       "      <td>yes</td>\n",
       "      <td>French</td>\n",
       "    </tr>\n",
       "  </tbody>\n",
       "</table>\n",
       "</div>"
      ],
      "text/plain": [
       "   user_id      group landing_page  time_spent_on_the_page converted  \\\n",
       "1   546468  treatment          new                    7.13       yes   \n",
       "2   546462  treatment          new                    4.40        no   \n",
       "4   546459  treatment          new                    4.75       yes   \n",
       "6   546448  treatment          new                    5.25       yes   \n",
       "8   546461  treatment          new                   10.71       yes   \n",
       "\n",
       "  language_preferred  \n",
       "1            English  \n",
       "2            Spanish  \n",
       "4            Spanish  \n",
       "6             French  \n",
       "8             French  "
      ]
     },
     "execution_count": 42,
     "metadata": {},
     "output_type": "execute_result"
    }
   ],
   "source": [
    "# First Extracting the data for users who viewed the new landing page\n",
    "# and storing it in the variable data\n",
    "data = df[df[\"landing_page\"]==\"new\"]\n",
    "\n",
    "# Viewing the first 5 rows to  ensure the treatment group has been extracted inorder to proceed\n",
    "data.head(5)"
   ]
  },
  {
   "cell_type": "code",
   "execution_count": 43,
   "id": "97bbd43f",
   "metadata": {},
   "outputs": [
    {
     "data": {
      "image/png": "[encoded data removed]",
      "text/plain": [
       "<Figure size 576x360 with 1 Axes>"
      ]
     },
     "metadata": {},
     "output_type": "display_data"
    }
   ],
   "source": [
    "# visual analysis of time spent on the new landing page for different language users\n",
    "plt.figure(figsize=(8, 5))\n",
    "sns.boxplot(x=\"language_preferred\", y=\"time_spent_on_the_page\", data = data,showmeans=True)\n",
    "           \n",
    "plt.title(\"Time spent on the new page w.r.t. Language preferred\",fontsize=14)\n",
    "plt.grid()\n",
    "plt.show()"
   ]
  },
  {
   "cell_type": "code",
   "execution_count": 44,
   "id": "c9732faf",
   "metadata": {},
   "outputs": [
    {
     "data": {
      "text/plain": [
       "language_preferred\n",
       "English    6.663750\n",
       "French     6.196471\n",
       "Spanish    5.835294\n",
       "Name: time_spent_on_the_page, dtype: float64"
      ]
     },
     "execution_count": 44,
     "metadata": {},
     "output_type": "execute_result"
    }
   ],
   "source": [
    " # Finding the mean time spent on the new landing page for different language users\n",
    "data.groupby([\"language_preferred\"])[\"time_spent_on_the_page\"].mean().sort_values(ascending=False)"
   ]
  },
  {
   "cell_type": "markdown",
   "id": "0819d7f8",
   "metadata": {},
   "source": [
    "**Observations:**\n",
    "\n",
    "From the above we see that,\n",
    "* The distribution of mean time spent on the new page differs(though not very much) among the three different language users.\n",
    "* The English language users have the highest mean time spent on the new page.\n",
    "* The Spanish language users have the lowest mean time spent on the new page."
   ]
  },
  {
   "cell_type": "markdown",
   "id": "51b76254",
   "metadata": {},
   "source": [
    "### Step 1: Define the null and alternative hypotheses"
   ]
  },
  {
   "cell_type": "markdown",
   "id": "91224cde",
   "metadata": {},
   "source": [
    "$H_0:$ The mean time spent on the new page for the different language users is equal.\n",
    "\n",
    "$H_a:$ At least one of the mean time spent on the new page for the different language users is different."
   ]
  },
  {
   "cell_type": "markdown",
   "id": "0e5d201c",
   "metadata": {},
   "source": [
    "### Step 2: Select Appropriate test"
   ]
  },
  {
   "cell_type": "markdown",
   "id": "7f17b67f",
   "metadata": {},
   "source": [
    "This is a case that concerns the means of three populations.Hence,**One-way ANOVA test is the appropriate test** used here provided the assumptions of normality and equality of variance are verified.\n",
    "\n",
    "* For testing of normality, Shapiro-Wilk’s test is applied to the response variable(time spent on the new page).\n",
    "* For equality of variance, Levene test is applied to the response variable(time spent on the new page)."
   ]
  },
  {
   "cell_type": "markdown",
   "id": "c9b68392",
   "metadata": {},
   "source": [
    "#### Shapiro-Wilk’s test\n",
    "\n",
    "We will test the null hypothesis\n",
    "\n",
    ">$H_0:$ The time spent on the new page follow a normal distribution\n",
    "\n",
    "will be tested against the alternative hypothesis.\n",
    "\n",
    ">$H_a:$ The time spent on the new page do not not follow a normal distribution"
   ]
  },
  {
   "cell_type": "code",
   "execution_count": 45,
   "id": "74a5d99f",
   "metadata": {},
   "outputs": [
    {
     "name": "stdout",
     "output_type": "stream",
     "text": [
      "The p-value is 0.8040016293525696\n"
     ]
    }
   ],
   "source": [
    "# Assumption 1: Normality\n",
    "# Using the shapiro function from the scipy.stats library for this test\n",
    "\n",
    "# Calculating the p-value\n",
    "w, p_value = stats.shapiro(data[\"time_spent_on_the_page\"]) \n",
    "print('The p-value is', p_value)"
   ]
  },
  {
   "cell_type": "markdown",
   "id": "8cae8ec3",
   "metadata": {},
   "source": [
    "**Insight:**\n",
    "Since p-value(~0.804) of the Shapiro-Wilk’s test is very large than the 5% significance level, we fail to reject the null hypothesis that the response follows the normal distribution."
   ]
  },
  {
   "cell_type": "markdown",
   "id": "4d05352d",
   "metadata": {},
   "source": [
    "### Levene’s test\n",
    "\n",
    "We will test the null hypothesis\n",
    "\n",
    ">$H_0$: All the population variances are equal\n",
    "\n",
    "will be tested against the alternative hypothesis\n",
    "\n",
    ">$H_a$: At least one variance is different from the rest"
   ]
  },
  {
   "cell_type": "code",
   "execution_count": 46,
   "id": "2c806d4f",
   "metadata": {},
   "outputs": [
    {
     "name": "stdout",
     "output_type": "stream",
     "text": [
      "The p-value is 0.46711357711340173\n"
     ]
    }
   ],
   "source": [
    "#Assumption 2: Homogeneity of Variance\n",
    "# Using the levene function from scipy.stats library for this test\n",
    "\n",
    "# Calculating the p-value\n",
    "statistic, p_value = stats.levene(data[data[\"language_preferred\"]==\"English\"][\"time_spent_on_the_page\"],\n",
    "                            data[data[\"language_preferred\"]==\"French\"][\"time_spent_on_the_page\"],\n",
    "                            data[data[\"language_preferred\"]==\"Spanish\"][\"time_spent_on_the_page\"])\n",
    "print('The p-value is', p_value)"
   ]
  },
  {
   "cell_type": "markdown",
   "id": "065b8026",
   "metadata": {},
   "source": [
    "**Insight:**\n",
    "Since the p-value(~0.467) is larger than the 5% significance level, we fail to reject the null hypothesis of homogeneity of variances."
   ]
  },
  {
   "cell_type": "markdown",
   "id": "47933116",
   "metadata": {},
   "source": [
    "### Step 3: Decide the significance level"
   ]
  },
  {
   "cell_type": "markdown",
   "id": "193b5cef",
   "metadata": {},
   "source": [
    "As given in the problem statement, 𝛼 = 0.05 is selected as the significance level."
   ]
  },
  {
   "cell_type": "markdown",
   "id": "b354d614",
   "metadata": {},
   "source": [
    "### Step 4: Collect and prepare data"
   ]
  },
  {
   "cell_type": "code",
   "execution_count": 47,
   "id": "7e63560e",
   "metadata": {},
   "outputs": [],
   "source": [
    "# Separating the time spent on the new page with respect to the three different language users\n",
    "# and storing it into three different variables\n",
    "\n",
    "# Time spent on the new page by English language users\n",
    "time_spent_E = data[data[\"language_preferred\"]==\"English\"][\"time_spent_on_the_page\"]\n",
    "\n",
    "# Time spent on the new page by French language users                                                          time_spent_F = data[data[\"language_preferred\"]==\"French\"][\"time_spent_on_the_page\"]\n",
    "time_spent_F = data[data[\"language_preferred\"]==\"French\"][\"time_spent_on_the_page\"]\n",
    "                                                           \n",
    "# Time spent on the new page by Spanish language users\n",
    "time_spent_S = data[data[\"language_preferred\"]==\"Spanish\"][\"time_spent_on_the_page\"]"
   ]
  },
  {
   "cell_type": "markdown",
   "id": "a49f912e",
   "metadata": {},
   "source": [
    "### Step 5: Calculate the p-value"
   ]
  },
  {
   "cell_type": "code",
   "execution_count": 48,
   "id": "9b3522c5",
   "metadata": {},
   "outputs": [
    {
     "name": "stdout",
     "output_type": "stream",
     "text": [
      "The p-value is  0.43204138694325955\n"
     ]
    }
   ],
   "source": [
    "# import the required function to perform the one-way anova test\n",
    "from scipy.stats import f_oneway\n",
    "\n",
    "# perform one-way anova test\n",
    "test_stat, p_value = stats.f_oneway(time_spent_E, time_spent_F, time_spent_S)\n",
    "print('The p-value is ', p_value)"
   ]
  },
  {
   "cell_type": "markdown",
   "id": "b5b0e32a",
   "metadata": {},
   "source": [
    "### Step 6: Compare the p-value with α"
   ]
  },
  {
   "cell_type": "code",
   "execution_count": 49,
   "id": "0e767517",
   "metadata": {},
   "outputs": [
    {
     "name": "stdout",
     "output_type": "stream",
     "text": [
      "As the p-value 0.43204138694325955 is greater than the level of significance, we fail to reject the null hypothesis.\n"
     ]
    }
   ],
   "source": [
    "# print the conclusion based on p-value\n",
    "if p_value < 0.05:\n",
    "    print(f'As the p-value {p_value} is less than the level of significance, we reject the null hypothesis.')\n",
    "else:\n",
    "    print(f'As the p-value {p_value} is greater than the level of significance, we fail to reject the null hypothesis.')"
   ]
  },
  {
   "cell_type": "markdown",
   "id": "dc996a70",
   "metadata": {},
   "source": [
    "### Step 7:  Draw inference"
   ]
  },
  {
   "cell_type": "markdown",
   "id": "3387b416",
   "metadata": {},
   "source": [
    "At the 5% significance level, we fail to reject the null hypothesis. Therefore, we have enough statistical evidence to say that the mean time spent on the new page is same for the different language users."
   ]
  },
  {
   "cell_type": "markdown",
   "id": "3acbc947",
   "metadata": {
    "id": "3acbc947"
   },
   "source": [
    "## Conclusion and Business Recommendations"
   ]
  },
  {
   "cell_type": "markdown",
   "id": "21fb1063",
   "metadata": {
    "id": "21fb1063"
   },
   "source": [
    "### Conclusion :\n",
    "I analyzed a dataset of the response of 100 randomly selected users divided into two groups(samples)-the treatment and the control group.The treatment group is served the new landing page and the control group is served the old landing page.My conclusions from the analysis made are:\n",
    "\n",
    "* 54.0% of users in the dataset converted to subscribers of the news portal and 46.0% of users in the dataset did not convert to suscribers of the news portal.\n",
    "* There are 3 unique languages in this dataset that users use to view the landing page.The most choosen language used, is the French and Spanish language.\n",
    "* In this dataset,the time spent on the page by users ranges from ~0.19(minimum ) to ~10.7(maximum) minutes.The average time spent by users on the landing page is ~ 5.38 minutes.\n",
    "* Visually when we compare the time spent on the page distribution of the two samples(treatment and control group),**it seems the users spend more time on the new landing page than the old landing page and hence statistically,we have enough evidence to say that this holds.**\n",
    "* 33.0% of users who viewed the new landing page(treatment group) and 21.0% of users who viewed the old landing page(control group),converted to subscribers of the news portal.Visually,it seems the proportion of users who visit the new landing page and get converted to subscribers of the news portal is more than the proportion of users who visit the old landing page and get converted to subscribers of the news portal.Hence statistically,**we have enough evidence to say that the conversion rate for the new page is greater than the conversion rate for the old page.**\n",
    "* From the sample,21.0% of users who choosed English language,18.0% of users who choosed French language and 15.0% of users who choosed Spanish language to view the landing page, converted to subscribers of the news portal.Even though visually from the sample,it seems that the users who choosed English language had the highest converted status ,statistically,**there is not enough evidence to say that the converted status depends on the preferred language.**\n",
    "* When we compare the sample mean time spent on the new landing page for different language users,even though visually it seems as if the mean time spent on the new landing page differs among the three different language users,**there is enough statistical evidence to say that the mean time spent on the new page is same for the different language users.**\n",
    "\n",
    "### Business Recommendations :\n",
    "\n",
    "* From the above analysis and conclusions,the new landing page created by the design team of the company which suggest that it might be more captivating as the users spend more time on it.The new landing page is hence more effective to gather new subscribers.If the new landing page is maintained and why not perfected ,it might gather many more subscribers.\n",
    "* Eventhough statistically,they have been evidence that converted status is independent of preferred language which visually shows other wise,i think it's better for the company to carry out further investigations on users about this inorder to have a deeper insight and better viewers-news portal experience which might attract many more subscribers.\n",
    "* I suggest the company should further investigate subscription method and find ways to facilitate subscription.This is because some users though they spent alot of time on the new landing page,yet they don't subscribe.May be subscription method to the news portal is quite complex or time demanding for some users which might find it quite hard to subscribe eventhough they enjoy the news portal .\n"
   ]
  }
 ],
 "metadata": {
  "colab": {
   "collapsed_sections": [],
   "name": "ENews_Express_Learner_Notebook[Full Code Version].ipynb",
   "provenance": []
  },
  "kernelspec": {
   "display_name": "Python 3 (ipykernel)",
   "language": "python",
   "name": "python3"
  },
  "language_info": {
   "codemirror_mode": {
    "name": "ipython",
    "version": 3
   },
   "file_extension": ".py",
   "mimetype": "text/x-python",
   "name": "python",
   "nbconvert_exporter": "python",
   "pygments_lexer": "ipython3",
   "version": "3.9.7"
  }
 },
 "nbformat": 4,
 "nbformat_minor": 5
}
